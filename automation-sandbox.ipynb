{
 "cells": [
  {
   "cell_type": "markdown",
   "metadata": {},
   "source": [
    "# Regular Expression (regexes)\n",
    "Find patterns of text with regular expression, *regexes* <br>\n",
    "Resources: Automate Boring Stuff with Python\n",
    "1. Find simple phone number in string without regrexes\n",
    "2. Use regrexes to detect simple phone number\n",
    "3. Group with parentheses and match multiple groups with pipe\n",
    "4. Optional match with question mark"
   ]
  },
  {
   "cell_type": "code",
   "execution_count": 2,
   "metadata": {},
   "outputs": [
    {
     "data": {
      "text/plain": [
       "'C:\\\\Users\\\\Owner'"
      ]
     },
     "execution_count": 2,
     "metadata": {},
     "output_type": "execute_result"
    }
   ],
   "source": [
    "import pandas as pd\n",
    "import numpy as np\n",
    "import re\n",
    "import os\n",
    "os.getcwd()"
   ]
  },
  {
   "cell_type": "markdown",
   "metadata": {},
   "source": [
    "## 1. Use function to detect simple phone number \n",
    "- For simplicity, we only test the 000-000-0000 phone number format\n",
    "- `isPhoneNum` function applies to str type, so it does not work for sentence in str type \n",
    "- `findPhoneNum` function can try to get the phone number from a sentence str"
   ]
  },
  {
   "cell_type": "code",
   "execution_count": 5,
   "metadata": {},
   "outputs": [
    {
     "name": "stdout",
     "output_type": "stream",
     "text": [
      "345-231-4587 is a phone number:\n",
      "True\n",
      "moshi moshi is a phone number:\n",
      "False\n"
     ]
    }
   ],
   "source": [
    "def isPhoneNum(text):\n",
    "    # Filter out the string that is longer than a phone number\n",
    "    if len(text) != 12:\n",
    "        return False\n",
    "    \n",
    "    # Filter out the strings that contain letters \n",
    "    for i in range(0,3):\n",
    "        if not text[i].isdecimal():\n",
    "            return False\n",
    "    for i in range(4,7):\n",
    "        if not text[i].isdecimal():\n",
    "            return False\n",
    "    for i in range(8,12):\n",
    "        if not text[i].isdecimal():\n",
    "            return False\n",
    "    \n",
    "    # Filter out the strings with no hyphen at the 4th and 8th digit\n",
    "    if text[3] != '-' or text[7] != '-':\n",
    "        return False\n",
    "    \n",
    "    return True\n",
    "\n",
    "print('345-231-4587 is a phone number:')\n",
    "print(isPhoneNum('345-231-4587'))\n",
    "print('moshi moshi is a phone number:')\n",
    "print(isPhoneNum('moshi moshi'))"
   ]
  },
  {
   "cell_type": "code",
   "execution_count": 8,
   "metadata": {},
   "outputs": [
    {
     "name": "stdout",
     "output_type": "stream",
     "text": [
      "Phone number detected: 347-264-8562\n",
      "Phone number detected: 897-124-3745\n"
     ]
    }
   ],
   "source": [
    "def findPhoneNum(message):\n",
    "    for i in range (len(message)):\n",
    "        chunk = message[i:i+12]\n",
    "        if isPhoneNum(chunk):\n",
    "            print(f'Phone number detected: {chunk}')\n",
    "    \n",
    "line_1 = 'Is 347-264-8562 your phone number?'\n",
    "line_2 = '897-124-3745 is a stranger number'\n",
    "\n",
    "findPhoneNum(line_1)\n",
    "findPhoneNum(line_2)"
   ]
  },
  {
   "cell_type": "markdown",
   "metadata": {},
   "source": [
    "## 2. Detect phone number with regexes\n",
    "- `import re` to get the module for regular expression\n",
    "- `\\d`: stands for digit character\n",
    "- `{n}`: added after a pattern to match the pattern n times\n",
    "- `re.compile()`: creates regex objects `ro`\n",
    "- `ro.search('string')`: matches the regex objects within any strings\n",
    "- `mo.group()`: returns the matched text from searched string"
   ]
  },
  {
   "cell_type": "code",
   "execution_count": 19,
   "metadata": {},
   "outputs": [
    {
     "name": "stdout",
     "output_type": "stream",
     "text": [
      "<re.Match object; span=(13, 25), match='484-362-3678'>\n",
      "Using mo.group() method we get: 484-362-3678\n"
     ]
    }
   ],
   "source": [
    "phone_regex = re.compile(r'\\d{3}-\\d{3}-\\d{4}')\n",
    "match_object = phone_regex.search('My number is 484-362-3678')\n",
    "print(match_object)\n",
    "print(f'Using mo.group() method we get: {match_object.group()}')"
   ]
  },
  {
   "cell_type": "markdown",
   "metadata": {},
   "source": []
  }
 ],
 "metadata": {
  "kernelspec": {
   "display_name": "Python 3",
   "language": "python",
   "name": "python3"
  },
  "language_info": {
   "codemirror_mode": {
    "name": "ipython",
    "version": 3
   },
   "file_extension": ".py",
   "mimetype": "text/x-python",
   "name": "python",
   "nbconvert_exporter": "python",
   "pygments_lexer": "ipython3",
   "version": "3.7.1"
  }
 },
 "nbformat": 4,
 "nbformat_minor": 2
}
